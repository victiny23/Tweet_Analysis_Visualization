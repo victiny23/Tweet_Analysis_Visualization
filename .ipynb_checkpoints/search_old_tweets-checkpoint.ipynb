{
 "cells": [
  {
   "cell_type": "code",
   "execution_count": 1,
   "metadata": {},
   "outputs": [],
   "source": [
    "import pandas as pd\n",
    "import numpy as np\n",
    "import matplotlib.pyplot as plt\n",
    "import seaborn as sns\n",
    "import settings\n",
    "plt.rcParams['font.family'] = 'Times New Roman'"
   ]
  },
  {
   "cell_type": "code",
   "execution_count": 79,
   "metadata": {},
   "outputs": [
    {
     "name": "stdout",
     "output_type": "stream",
     "text": [
      "An error occured during an HTTP request: HTTP Error 404: Not Found\n",
      "Try to open in browser: https://twitter.com/search?q=Center%20for%20Computational%20Oncology%20until%3A2016-01-31&src=typd\n"
     ]
    },
    {
     "ename": "SystemExit",
     "evalue": "",
     "output_type": "error",
     "traceback": [
      "An exception has occurred, use %tb to see the full traceback.\n",
      "\u001b[1;31mSystemExit\u001b[0m\n"
     ]
    }
   ],
   "source": [
    "import GetOldTweets3 as got\n",
    "\n",
    "text_query = \"Mathematical modelling of trastuzumab-induced immune response in an in vivo murine model of HER2+ breast cancer\"\n",
    "tq = 'Center for Computational Oncology'\n",
    "count = 100\n",
    "\n",
    "# creation of query object\n",
    "tweet_criteria = got.manager.TweetCriteria().setQuerySearch(tq).setUntil(\"2016-01-31\").setMaxTweets(count)\n",
    "\n",
    "# creation of list that contains all tweets\n",
    "tweets = got.manager.TweetManager.getTweets(tweet_criteria)\n"
   ]
  },
  {
   "cell_type": "code",
   "execution_count": 78,
   "metadata": {},
   "outputs": [],
   "source": [
    "\"\"\"Set up API\"\"\"\n",
    "consumer_key = settings.twitter_consumer_key\n",
    "consumer_key_secret = settings.twitter_consumer_key_secret\n",
    "access_token = settings.twitter_access_token\n",
    "access_token_secret = settings.twitter_access_token_secret\n",
    "\n",
    "auth = tweepy.OAuthHandler(consumer_key, consumer_key_secret)\n",
    "auth.set_access_token(access_token, access_token_secret)\n",
    "api = tweepy.API(auth)\n",
    "\n",
    "user = api.me()"
   ]
  },
  {
   "cell_type": "code",
   "execution_count": 93,
   "metadata": {},
   "outputs": [
    {
     "name": "stdout",
     "output_type": "stream",
     "text": [
      "2018-10-21 03:27:36\n",
      "0\n",
      "0\n",
      "Mathematical modelling of trastuzumab-induced immune response in an  in vivo  murine model of HER2+ breast cancer |… https://t.co/wJGfQBisX7\n",
      "Douglas Angulo\n",
      "2814\n"
     ]
    }
   ],
   "source": [
    "result = api.get_status(id=1053850262002196485)\n",
    "print(result.created_at)\n",
    "print(result.favorite_count)\n",
    "print(result.retweet_count)\n",
    "print(result.text)\n",
    "print(result.user.name)\n",
    "print(result.user.followers_count)"
   ]
  }
 ],
 "metadata": {
  "kernelspec": {
   "display_name": "Python 3",
   "language": "python",
   "name": "python3"
  },
  "language_info": {
   "codemirror_mode": {
    "name": "ipython",
    "version": 3
   },
   "file_extension": ".py",
   "mimetype": "text/x-python",
   "name": "python",
   "nbconvert_exporter": "python",
   "pygments_lexer": "ipython3",
   "version": "3.7.1"
  }
 },
 "nbformat": 4,
 "nbformat_minor": 4
}
